{
 "cells": [
  {
   "cell_type": "code",
   "execution_count": 1,
   "id": "50012bc9",
   "metadata": {},
   "outputs": [],
   "source": [
    "import pandas as pd\n",
    "import matplotlib.pyplot as plt\n",
    "%matplotlib inline"
   ]
  },
  {
   "cell_type": "code",
   "execution_count": 5,
   "id": "747ed56c",
   "metadata": {},
   "outputs": [
    {
     "name": "stdout",
     "output_type": "stream",
     "text": [
      "Date      object\n",
      "Open     float64\n",
      "High     float64\n",
      "Low      float64\n",
      "Close    float64\n",
      "dtype: object\n"
     ]
    },
    {
     "data": {
      "text/plain": [
       "<bound method NDFrame.head of            Date     Open     High      Low    Close        M50        M200\n",
       "199   2/25/2022  4298.38  4385.34  4286.83  4384.65  4369.6970  4037.43015\n",
       "200   2/24/2022  4155.77  4294.73  4114.65  4288.70  4373.0042  4039.20175\n",
       "201   2/23/2022  4324.93  4341.51  4221.51  4225.50  4374.5768  4040.51170\n",
       "202   2/22/2022  4332.74  4362.12  4267.11  4304.76  4374.6686  4042.36590\n",
       "203   2/18/2022  4384.57  4394.60  4327.22  4348.87  4378.1364  4044.40395\n",
       "204   2/17/2022  4456.06  4456.06  4373.81  4380.26  4382.6340  4046.31105\n",
       "205   2/16/2022  4455.75  4489.55  4429.68  4475.01  4389.4956  4048.32760\n",
       "206   2/15/2022  4429.28  4472.77  4429.28  4471.07  4393.1670  4050.30010\n",
       "207   2/14/2022  4412.61  4426.22  4364.84  4401.67  4397.5212  4051.90790\n",
       "208   2/11/2022  4506.27  4526.33  4401.41  4418.64  4402.3900  4054.21295\n",
       "209   2/10/2022  4553.24  4588.92  4484.31  4504.08  4406.5492  4056.91365\n",
       "210    2/9/2022  4547.00  4590.03  4547.00  4587.18  4412.8572  4059.71895\n",
       "211    2/8/2022  4480.02  4531.32  4465.40  4521.54  4415.4148  4062.19035\n",
       "212    2/7/2022  4505.75  4521.86  4471.47  4483.87  4415.9032  4064.59180\n",
       "213    2/4/2022  4482.79  4539.66  4451.50  4500.53  4416.6696  4067.34475\n",
       "214    2/3/2022  4535.41  4542.88  4470.39  4477.44  4418.3846  4069.90525\n",
       "215    2/2/2022  4566.39  4595.31  4544.32  4589.38  4422.3204  4073.11935\n",
       "216    2/1/2022  4519.57  4550.49  4483.53  4546.54  4424.3194  4076.05810\n",
       "217   1/31/2022  4431.79  4516.89  4414.02  4515.55  4426.6814  4078.67720\n",
       "218   1/28/2022  4336.19  4432.72  4292.46  4431.85  4427.0678  4081.05020\n",
       "219   1/27/2022  4380.58  4428.74  4309.50  4326.51  4423.8324  4082.71810\n",
       "220   1/26/2022  4408.43  4453.23  4304.80  4349.93  4420.8268  4084.68590\n",
       "221   1/25/2022  4366.64  4411.01  4287.11  4356.45  4418.3328  4087.72530\n",
       "222   1/24/2022  4356.32  4417.35  4222.62  4410.13  4416.0330  4090.63540\n",
       "223   1/21/2022  4471.38  4494.52  4395.34  4397.94  4412.3390  4093.59110\n",
       "224   1/20/2022  4547.35  4602.11  4477.95  4482.73  4411.0764  4097.15200\n",
       "225   1/19/2022  4588.03  4611.55  4530.20  4532.76  4411.1234  4101.21635\n",
       "226   1/18/2022  4632.24  4632.24  4568.70  4577.11  4410.6166  4105.30345\n",
       "227   1/14/2022  4637.99  4665.13  4614.75  4662.85  4411.2416  4109.33720\n",
       "228   1/13/2022  4733.56  4744.13  4650.29  4659.03  4412.9118  4113.27245\n",
       "229   1/12/2022  4728.59  4748.83  4706.71  4726.35  4416.5776  4117.39890\n",
       "230   1/11/2022  4669.14  4714.13  4638.27  4713.07  4420.4358  4121.92775\n",
       "231   1/10/2022  4655.34  4673.02  4582.24  4670.29  4424.7168  4126.12620\n",
       "232    1/7/2022  4697.66  4707.95  4662.74  4677.03  4428.0252  4130.21580\n",
       "233    1/6/2022  4693.39  4725.01  4671.26  4696.05  4432.7226  4134.70935\n",
       "234    1/5/2022  4787.99  4797.70  4699.44  4700.58  4437.4718  4139.44850\n",
       "235    1/4/2022  4804.51  4818.62  4774.27  4793.54  4445.1092  4145.08730\n",
       "236    1/3/2022  4778.14  4796.64  4758.17  4796.56  4453.8832  4150.59430\n",
       "237  12/31/2021  4775.21  4786.83  4765.75  4766.18  4463.9578  4155.82530\n",
       "238  12/30/2021  4794.23  4808.93  4775.33  4778.73  4476.0702  4161.32920\n",
       "239  12/29/2021  4788.64  4804.06  4778.08  4793.06  4487.8452  4167.37915\n",
       "240  12/28/2021  4795.49  4807.02  4780.04  4786.35  4498.3818  4172.96135\n",
       "241  12/27/2021  4733.99  4791.49  4733.99  4791.19  4508.6480  4179.03215\n",
       "242  12/23/2021  4703.96  4740.74  4703.96  4725.79  4519.7498  4184.71690\n",
       "243  12/22/2021  4650.36  4697.67  4645.53  4696.56  4529.6592  4190.13775\n",
       "244  12/21/2021  4594.96  4651.14  4583.16  4649.23  4536.0664  4195.18560\n",
       "245  12/20/2021  4587.90  4587.90  4531.10  4568.02  4540.1570  4199.30310\n",
       "246  12/17/2021  4652.50  4666.70  4600.22  4620.64  4544.8390  4203.48990\n",
       "247  12/16/2021  4719.13  4731.99  4651.89  4668.67  4552.0872  4207.87860\n",
       "248  12/15/2021  4636.46  4712.60  4611.22  4709.85  4558.8054  4213.03570\n",
       "249  12/14/2021  4642.99  4660.47  4606.52  4634.09  4563.7942  4218.27805\n",
       "250  12/13/2021  4710.30  4710.30  4667.60  4668.97  4571.3996  4223.42055\n",
       "251  12/10/2021  4687.64  4713.57  4670.24  4712.02  4581.1300  4228.38545\n",
       "252   12/9/2021  4691.00  4695.26  4665.98  4667.45  4588.3838  4233.48625>"
      ]
     },
     "execution_count": 5,
     "metadata": {},
     "output_type": "execute_result"
    }
   ],
   "source": [
    "sp = pd.read_csv(r\"C:\\Users\\mikec\\OneDrive\\Desktop\\Future Pathway\\Coursera coding\\Download Data - INDEX_US_S&P US_SPX.csv\")\n",
    "print(sp.dtypes)\n",
    "sp['M50'] = sp['Close'].rolling(50).mean()\n",
    "sp['M200'] = sp['Close'].rolling(200).mean()\n",
    "sp = sp.dropna()\n",
    "sp.head"
   ]
  },
  {
   "cell_type": "code",
   "execution_count": 9,
   "id": "423ab896",
   "metadata": {},
   "outputs": [],
   "source": [
    "#Add a new column \"Shares\", if MA10>MA50, denote as 1 (long one share of stock), otherwise, denote as 0 (do nothing)\n",
    "\n",
    "sp['Shares'] = [1 if sp.loc[ei, 'M50']>sp.loc[ei, 'M200'] else 0 for ei in sp.index]\n"
   ]
  },
  {
   "cell_type": "code",
   "execution_count": 11,
   "id": "320fcb58",
   "metadata": {},
   "outputs": [
    {
     "data": {
      "text/plain": [
       "<matplotlib.lines.Line2D at 0x2055a6e6490>"
      ]
     },
     "execution_count": 11,
     "metadata": {},
     "output_type": "execute_result"
    },
    {
     "data": {
      "image/png": "[encoded data removed]",
      "text/plain": [
       "<Figure size 432x288 with 1 Axes>"
      ]
     },
     "metadata": {
      "needs_background": "light"
     },
     "output_type": "display_data"
    }
   ],
   "source": [
    "#Add a new column \"Profit\" using List Comprehension, for any rows in fb, if Shares=1, the profit is calculated as the close price of \n",
    "#tomorrow - the close price of today. Otherwise the profit is 0.\n",
    "\n",
    "#Plot a graph to show the Profit/Loss\n",
    "sp['Close1'] = sp['Close'].shift(-1)\n",
    "sp['Profit'] = [sp.loc[ei, 'Close1'] - sp.loc[ei, 'Close'] if sp.loc[ei, 'Shares']==1 else 0 for ei in sp.index]\n",
    "sp['Profit'].plot()\n",
    "plt.axhline(y=0, color='red')"
   ]
  },
  {
   "cell_type": "code",
   "execution_count": 12,
   "id": "1219fce2",
   "metadata": {
    "scrolled": true
   },
   "outputs": [
    {
     "data": {
      "text/html": [
       "<div>\n",
       "<style scoped>\n",
       "    .dataframe tbody tr th:only-of-type {\n",
       "        vertical-align: middle;\n",
       "    }\n",
       "\n",
       "    .dataframe tbody tr th {\n",
       "        vertical-align: top;\n",
       "    }\n",
       "\n",
       "    .dataframe thead th {\n",
       "        text-align: right;\n",
       "    }\n",
       "</style>\n",
       "<table border=\"1\" class=\"dataframe\">\n",
       "  <thead>\n",
       "    <tr style=\"text-align: right;\">\n",
       "      <th></th>\n",
       "      <th>Date</th>\n",
       "      <th>Open</th>\n",
       "      <th>High</th>\n",
       "      <th>Low</th>\n",
       "      <th>Close</th>\n",
       "      <th>M50</th>\n",
       "      <th>M200</th>\n",
       "      <th>Shares</th>\n",
       "      <th>Close1</th>\n",
       "      <th>Profit</th>\n",
       "      <th>wealth</th>\n",
       "    </tr>\n",
       "  </thead>\n",
       "  <tbody>\n",
       "    <tr>\n",
       "      <th>248</th>\n",
       "      <td>12/15/2021</td>\n",
       "      <td>4636.46</td>\n",
       "      <td>4712.60</td>\n",
       "      <td>4611.22</td>\n",
       "      <td>4709.85</td>\n",
       "      <td>4558.8054</td>\n",
       "      <td>4213.03570</td>\n",
       "      <td>1</td>\n",
       "      <td>4634.09</td>\n",
       "      <td>-75.76</td>\n",
       "      <td>249.44</td>\n",
       "    </tr>\n",
       "    <tr>\n",
       "      <th>249</th>\n",
       "      <td>12/14/2021</td>\n",
       "      <td>4642.99</td>\n",
       "      <td>4660.47</td>\n",
       "      <td>4606.52</td>\n",
       "      <td>4634.09</td>\n",
       "      <td>4563.7942</td>\n",
       "      <td>4218.27805</td>\n",
       "      <td>1</td>\n",
       "      <td>4668.97</td>\n",
       "      <td>34.88</td>\n",
       "      <td>284.32</td>\n",
       "    </tr>\n",
       "    <tr>\n",
       "      <th>250</th>\n",
       "      <td>12/13/2021</td>\n",
       "      <td>4710.30</td>\n",
       "      <td>4710.30</td>\n",
       "      <td>4667.60</td>\n",
       "      <td>4668.97</td>\n",
       "      <td>4571.3996</td>\n",
       "      <td>4223.42055</td>\n",
       "      <td>1</td>\n",
       "      <td>4712.02</td>\n",
       "      <td>43.05</td>\n",
       "      <td>327.37</td>\n",
       "    </tr>\n",
       "    <tr>\n",
       "      <th>251</th>\n",
       "      <td>12/10/2021</td>\n",
       "      <td>4687.64</td>\n",
       "      <td>4713.57</td>\n",
       "      <td>4670.24</td>\n",
       "      <td>4712.02</td>\n",
       "      <td>4581.1300</td>\n",
       "      <td>4228.38545</td>\n",
       "      <td>1</td>\n",
       "      <td>4667.45</td>\n",
       "      <td>-44.57</td>\n",
       "      <td>282.80</td>\n",
       "    </tr>\n",
       "    <tr>\n",
       "      <th>252</th>\n",
       "      <td>12/9/2021</td>\n",
       "      <td>4691.00</td>\n",
       "      <td>4695.26</td>\n",
       "      <td>4665.98</td>\n",
       "      <td>4667.45</td>\n",
       "      <td>4588.3838</td>\n",
       "      <td>4233.48625</td>\n",
       "      <td>1</td>\n",
       "      <td>NaN</td>\n",
       "      <td>NaN</td>\n",
       "      <td>NaN</td>\n",
       "    </tr>\n",
       "  </tbody>\n",
       "</table>\n",
       "</div>"
      ],
      "text/plain": [
       "           Date     Open     High      Low    Close        M50        M200  \\\n",
       "248  12/15/2021  4636.46  4712.60  4611.22  4709.85  4558.8054  4213.03570   \n",
       "249  12/14/2021  4642.99  4660.47  4606.52  4634.09  4563.7942  4218.27805   \n",
       "250  12/13/2021  4710.30  4710.30  4667.60  4668.97  4571.3996  4223.42055   \n",
       "251  12/10/2021  4687.64  4713.57  4670.24  4712.02  4581.1300  4228.38545   \n",
       "252   12/9/2021  4691.00  4695.26  4665.98  4667.45  4588.3838  4233.48625   \n",
       "\n",
       "     Shares   Close1  Profit  wealth  \n",
       "248       1  4634.09  -75.76  249.44  \n",
       "249       1  4668.97   34.88  284.32  \n",
       "250       1  4712.02   43.05  327.37  \n",
       "251       1  4667.45  -44.57  282.80  \n",
       "252       1      NaN     NaN     NaN  "
      ]
     },
     "execution_count": 12,
     "metadata": {},
     "output_type": "execute_result"
    }
   ],
   "source": [
    "#Use .cumsum() to calculate the accumulated wealth over the period\n",
    "\n",
    "sp['wealth'] = sp['Profit'].cumsum()\n",
    "sp.tail()"
   ]
  },
  {
   "cell_type": "code",
   "execution_count": 13,
   "id": "b3d54d4d",
   "metadata": {},
   "outputs": [
    {
     "data": {
      "text/plain": [
       "Text(0.5, 1.0, 'Total money you win is 282.8000000000002')"
      ]
     },
     "execution_count": 13,
     "metadata": {},
     "output_type": "execute_result"
    },
    {
     "data": {
      "image/png": "[encoded data removed]",
      "text/plain": [
       "<Figure size 432x288 with 1 Axes>"
      ]
     },
     "metadata": {
      "needs_background": "light"
     },
     "output_type": "display_data"
    }
   ],
   "source": [
    "sp['wealth'].plot()\n",
    "plt.title('Total money you win is {}'.format(sp.loc[sp.index[-2], 'wealth']))"
   ]
  }
 ],
 "metadata": {
  "kernelspec": {
   "display_name": "Python 3 (ipykernel)",
   "language": "python",
   "name": "python3"
  },
  "language_info": {
   "codemirror_mode": {
    "name": "ipython",
    "version": 3
   },
   "file_extension": ".py",
   "mimetype": "text/x-python",
   "name": "python",
   "nbconvert_exporter": "python",
   "pygments_lexer": "ipython3",
   "version": "3.9.12"
  }
 },
 "nbformat": 4,
 "nbformat_minor": 5
}
